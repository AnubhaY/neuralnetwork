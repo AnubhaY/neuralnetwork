{
 "cells": [
  {
   "cell_type": "code",
   "execution_count": null,
   "metadata": {},
   "outputs": [],
   "source": [
    "import numpy as np\n",
    "import sklearn"
   ]
  },
  {
   "cell_type": "markdown",
   "metadata": {},
   "source": [
    "## neural network"
   ]
  },
  {
   "cell_type": "code",
   "execution_count": 2,
   "metadata": {},
   "outputs": [],
   "source": [
    "class neuralNetwork:\n",
    "    # initialise the neural network\n",
    "    def __init__(self, inputnodes, hiddennodes, outputnodes, learningrate):\n",
    "        # initialise the input, hidden, output layer\n",
    "        self.inodes = inputnodes\n",
    "        self.hnodes = hiddennodes\n",
    "        self.onodes = outputnodes\n",
    "        \n",
    "        # set weights\n",
    "        self.weight_layer1 = np.random.normal(0.0, pow(self.inodes, -0.5), (self.hnodes, self.inodes))\n",
    "        self.weight_layer2 = np.random.normal(0.0, pow(self.hnodes, -0.5), (self.onodes, self.hnodes))\n",
    "\n",
    "        # learning rate\n",
    "        self.lr = learningrate\n",
    "        \n",
    "        # activation function: sigmoid function\n",
    "        self.activation_function = lambda x: 1 / (1 + np.exp(-x))\n",
    "        \n",
    "        \n",
    "    \n",
    "    # train the neural network\n",
    "    def train(self, input_data, target_data):\n",
    "        # Forward propagation\n",
    "        # convert inputs list to 2D array\n",
    "        inputs = np.array(input_data, ndmin=2).T\n",
    "        targets = np.array(target_data, ndmin=2).T\n",
    "        \n",
    "        # calculate hidden layer\n",
    "        hidden_input = np.dot(self.weight_layer1, inputs)\n",
    "        hidden_output = self.activation_function(hidden_input)\n",
    "        \n",
    "        # calculate final output layer\n",
    "        final_input = np.dot(self.weight_layer2, hidden_output)\n",
    "        final_output = self.activation_function(final_input)\n",
    "        \n",
    "        # output layer error: (target - actual)\n",
    "        output_error = targets - final_output\n",
    "        # hidden layer error is the output_error, split by weights, recombined at hidden nodes\n",
    "        hidden_error = np.dot(self.weight_layer2.T, output_error) \n",
    "        \n",
    "        # Backward propagation\n",
    "        \n",
    "        # update the weights first between the hidden and output layers\n",
    "        self.weight_layer2 += self.lr * np.dot((output_error * final_output * (1.0 - final_output)), np.transpose(hidden_output))\n",
    "        \n",
    "        # update the weights between the input and hidden layers\n",
    "        self.weight_layer1 += self.lr * np.dot((hidden_error * hidden_output * (1.0 - hidden_output)), np.transpose(inputs))\n",
    "        \n",
    "    \n",
    "    # predict the neural network\n",
    "    def predict(self, inputs_list):\n",
    "        # convert inputs list to 2d array\n",
    "        inputs = np.array(inputs_list, ndmin=2).T\n",
    "        \n",
    "        # calculate hidden layer\n",
    "        hidden_input = np.dot(self.weight_layer1, inputs)\n",
    "        hidden_output = self.activation_function(hidden_input)\n",
    "        \n",
    "        # calculate final output layer\n",
    "        final_input = np.dot(self.weight_layer2, hidden_output)\n",
    "        final_output = self.activation_function(final_input)\n",
    "        \n",
    "        return final_output"
   ]
  },
  {
   "cell_type": "code",
   "execution_count": 3,
   "metadata": {},
   "outputs": [],
   "source": [
    "# number of input, hidden and output nodes\n",
    "input_nodes = 2\n",
    "hidden_nodes = 3\n",
    "output_nodes = 1\n",
    "\n",
    "# learning rate is 0.2\n",
    "learning_rate = 0.2\n",
    "\n",
    "# instantiate neural network\n",
    "n = neuralNetwork(input_nodes,hidden_nodes,output_nodes, learning_rate)"
   ]
  },
  {
   "cell_type": "code",
   "execution_count": 4,
   "metadata": {},
   "outputs": [
    {
     "data": {
      "text/plain": [
       "array([[0.54606999]])"
      ]
     },
     "execution_count": 4,
     "metadata": {},
     "output_type": "execute_result"
    }
   ],
   "source": [
    "# test\n",
    "n.predict([1.0, 0.5])"
   ]
  },
  {
   "cell_type": "markdown",
   "metadata": {},
   "source": [
    "## Generate Test Data\n",
    "Two inputs.\n",
    "If a > b, output = 1"
   ]
  },
  {
   "cell_type": "code",
   "execution_count": 5,
   "metadata": {},
   "outputs": [],
   "source": [
    "X = np.random.rand(1000, 2)\n",
    "y = (X[:, 0] > X[:, 1]).astype(int)"
   ]
  },
  {
   "cell_type": "code",
   "execution_count": 6,
   "metadata": {},
   "outputs": [
    {
     "data": {
      "text/plain": [
       "array([[0.34435401, 0.51957542],\n",
       "       [0.40619781, 0.96634599]])"
      ]
     },
     "execution_count": 6,
     "metadata": {},
     "output_type": "execute_result"
    }
   ],
   "source": [
    "X[:2]"
   ]
  },
  {
   "cell_type": "code",
   "execution_count": 7,
   "metadata": {},
   "outputs": [
    {
     "data": {
      "text/plain": [
       "array([0, 0])"
      ]
     },
     "execution_count": 7,
     "metadata": {},
     "output_type": "execute_result"
    }
   ],
   "source": [
    "y[:2]"
   ]
  },
  {
   "cell_type": "markdown",
   "metadata": {},
   "source": [
    "## Train data from 0-800 and re-train it 100 times"
   ]
  },
  {
   "cell_type": "code",
   "execution_count": 8,
   "metadata": {},
   "outputs": [],
   "source": [
    "for j in range(100):\n",
    "    for i in range(800):\n",
    "        n.train(X[i], y[i])"
   ]
  },
  {
   "cell_type": "markdown",
   "metadata": {},
   "source": [
    "## Test\n",
    "Get y_pred from rest 200 data"
   ]
  },
  {
   "cell_type": "code",
   "execution_count": 9,
   "metadata": {},
   "outputs": [],
   "source": [
    "y_pred = []"
   ]
  },
  {
   "cell_type": "code",
   "execution_count": 10,
   "metadata": {},
   "outputs": [],
   "source": [
    "for i in range(800, 1000):\n",
    "    y_pred.append(n.predict(X[i]).item())"
   ]
  },
  {
   "cell_type": "code",
   "execution_count": 11,
   "metadata": {},
   "outputs": [],
   "source": [
    "import sklearn.metrics"
   ]
  },
  {
   "cell_type": "code",
   "execution_count": 12,
   "metadata": {},
   "outputs": [
    {
     "data": {
      "text/plain": [
       "0.004968872986976181"
      ]
     },
     "execution_count": 12,
     "metadata": {},
     "output_type": "execute_result"
    }
   ],
   "source": [
    "sklearn.metrics.mean_squared_error(y[800:1000], y_pred)"
   ]
  },
  {
   "cell_type": "markdown",
   "metadata": {},
   "source": [
    "### Sample output logs"
   ]
  },
  {
   "cell_type": "code",
   "execution_count": 13,
   "metadata": {},
   "outputs": [
    {
     "data": {
      "text/plain": [
       "[0.999045198912345,\n",
       " 0.9997112516191257,\n",
       " 0.999897845291202,\n",
       " 0.05409676217306056,\n",
       " 0.9997343741269037,\n",
       " 0.9998962334927916,\n",
       " 5.199879701695559e-05,\n",
       " 0.9994893913574738,\n",
       " 0.9998295123983078,\n",
       " 0.9998803424278838]"
      ]
     },
     "execution_count": 13,
     "metadata": {},
     "output_type": "execute_result"
    }
   ],
   "source": [
    "y_pred[:10]"
   ]
  },
  {
   "cell_type": "code",
   "execution_count": 14,
   "metadata": {},
   "outputs": [
    {
     "data": {
      "text/plain": [
       "array([1, 1, 1, 0, 1, 1, 0, 1, 1, 1])"
      ]
     },
     "execution_count": 14,
     "metadata": {},
     "output_type": "execute_result"
    }
   ],
   "source": [
    "y[800:810]"
   ]
  },
  {
   "cell_type": "code",
   "execution_count": null,
   "metadata": {},
   "outputs": [],
   "source": []
  }
 ],
 "metadata": {
  "kernelspec": {
   "display_name": "Python 3",
   "language": "python",
   "name": "python3"
  },
  "language_info": {
   "codemirror_mode": {
    "name": "ipython",
    "version": 3
   },
   "file_extension": ".py",
   "mimetype": "text/x-python",
   "name": "python",
   "nbconvert_exporter": "python",
   "pygments_lexer": "ipython3",
   "version": "3.7.7"
  }
 },
 "nbformat": 4,
 "nbformat_minor": 4
}
